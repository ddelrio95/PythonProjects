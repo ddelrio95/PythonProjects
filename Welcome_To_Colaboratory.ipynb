{
  "nbformat": 4,
  "nbformat_minor": 0,
  "metadata": {
    "colab": {
      "name": "Welcome To Colaboratory",
      "provenance": [],
      "collapsed_sections": [],
      "toc_visible": true,
      "include_colab_link": true
    },
    "kernelspec": {
      "display_name": "Python 3",
      "name": "python3"
    }
  },
  "cells": [
    {
      "cell_type": "markdown",
      "metadata": {
        "id": "view-in-github",
        "colab_type": "text"
      },
      "source": [
        "<a href=\"https://colab.research.google.com/github/ddelrio95/PythonProjects/blob/master/Welcome_To_Colaboratory.ipynb\" target=\"_parent\"><img src=\"https://colab.research.google.com/assets/colab-badge.svg\" alt=\"Open In Colab\"/></a>"
      ]
    },
    {
      "cell_type": "code",
      "metadata": {
        "id": "-nvgsaJc8PKa"
      },
      "source": [
        "#BMI calculator\n",
        "name1 = \"YK\"\n",
        "height_m1 = 2\n",
        "weight_kg1 = 90\n",
        "\n",
        "name2 = \"YK's sister\"\n",
        "height_m2 = 1.8\n",
        "weight_kg2 = 70\n",
        "\n",
        "name3 = \"YK's brother\"\n",
        "height_m3 = 2.5\n",
        "weight_kg3 = 160"
      ],
      "execution_count": null,
      "outputs": []
    },
    {
      "cell_type": "code",
      "metadata": {
        "id": "cGwTWSab8RtT"
      },
      "source": [
        "def bmi_calculator(name, height_m, weight_kg):\n",
        "  bmi = weight_kg / (height_m ** 2)\n",
        "  print(\"bmi: \")\n",
        "  print(bmi)\n",
        "  if bmi < 25:\n",
        "    return name + \"is not overweight\"\n",
        "  else:\n",
        "      return name + \"is overweight\""
      ],
      "execution_count": null,
      "outputs": []
    },
    {
      "cell_type": "code",
      "metadata": {
        "id": "StoYVJVr8TyX"
      },
      "source": [
        "result1 = bmi_calculator(name1, height_m1, weight_kg1)\n",
        "result2 = bmi_calculator(name2, height_m2, weight_kg2)\n",
        "result3 = bmi_calculator(name3, height_m3, weight_kg3)"
      ],
      "execution_count": null,
      "outputs": []
    },
    {
      "cell_type": "code",
      "metadata": {
        "id": "MGt6MtgD8VsN"
      },
      "source": [
        "print(result1)\n",
        "print(result2)\n",
        "print(result3)"
      ],
      "execution_count": null,
      "outputs": []
    },
    {
      "cell_type": "markdown",
      "metadata": {
        "id": "K-S2Ws7LVsht"
      },
      "source": [
        "Recursion"
      ]
    },
    {
      "cell_type": "code",
      "metadata": {
        "id": "9y-YMH41Vpm_"
      },
      "source": [
        "def tri_recursion(k):\n",
        "  if(k > 0):\n",
        "    result = k + tri_recursion(k - 1)\n",
        "    print(result)\n",
        "  else:\n",
        "    result = 0\n",
        "  return result\n",
        "\n",
        "print(\"\\n\\nRecursioon Example Results\")\n",
        "tri_recursion(6)"
      ],
      "execution_count": null,
      "outputs": []
    }
  ]
}